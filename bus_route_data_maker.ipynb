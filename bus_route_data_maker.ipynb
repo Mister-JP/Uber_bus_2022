{
 "cells": [
  {
   "cell_type": "code",
   "execution_count": 1,
   "id": "d8fd5cfd-e3bc-4ce6-831c-ed451deae4b1",
   "metadata": {},
   "outputs": [],
   "source": [
    "import geopandas as gpd\n",
    "import os\n",
    "import pandas as pd\n",
    "import numpy as np\n",
    "from shapely.geometry import Polygon, Point\n",
    "from collections import defaultdict\n",
    "import warnings\n",
    "warnings.filterwarnings(\"ignore\")\n",
    "from tqdm import tqdm\n",
    "from functools import partial\n",
    "import pyproj\n",
    "from shapely.ops import transform\n",
    "from shapely import geometry, ops\n"
   ]
  },
  {
   "cell_type": "code",
   "execution_count": 4,
   "id": "ac78abac-a771-415b-82c7-f59426aff775",
   "metadata": {},
   "outputs": [
    {
     "name": "stdout",
     "output_type": "stream",
     "text": [
      "C:\\Users\\Jignasu\\Documents\\Virginia tech\\fall22\\urban\\project2\\busdata\\Metro_Bus_Lines.geojson\n"
     ]
    }
   ],
   "source": [
    "Metro_Bus_Lines = os.path.join(os.getcwd(), \"busdata\", \"Metro_Bus_Lines.geojson\")\n",
    "print(Metro_Bus_Lines)\n",
    "df = gpd.read_file(Metro_Bus_Lines)\n"
   ]
  },
  {
   "cell_type": "code",
   "execution_count": 5,
   "id": "1fd9bad8-e747-4e25-a383-5102ed9d4535",
   "metadata": {},
   "outputs": [
    {
     "name": "stdout",
     "output_type": "stream",
     "text": [
      "RT_D                                                                 Q5_S\n",
      "ROUTE                                                                  Q5\n",
      "DIRECTION                                                               S\n",
      "TYPE                                                                    R\n",
      "ORIGIN                                                        SHADY GROVE\n",
      "DESTINATION                                                       WHEATON\n",
      "EGIS_ID                                                           1422435\n",
      "STATE                                                                  MD\n",
      "REGIONAL                                                              REG\n",
      "SERVICE_TYPE                                                       Radial\n",
      "EXPRESS                                                                 N\n",
      "M_F                                                                     Y\n",
      "SAT                                                                     Y\n",
      "SUN                                                                     Y\n",
      "SCHOOL                                                                  N\n",
      "ROUTEKEY                                                              261\n",
      "STR_DATE                                        2020-08-23 03:00:00+00:00\n",
      "END_DATE                                        9999-09-09T02:59:00+00:00\n",
      "ORBCAD_GFI_RTE                                                      28705\n",
      "ROUTES_PER_LINE                                                Q1,2,4,5,6\n",
      "SAT_SS_SERVICE                                                          Y\n",
      "BPLN_SECTOR                                                          1400\n",
      "BPLN_SECTOR_DESCR                                             Western MGC\n",
      "CORRIDOR_ID                                                          10.0\n",
      "CORRIDOR_DESCRIPTION                                        Veirs Mill Rd\n",
      "ROUTES_PER_CORRIDOR                                            Q1,2,4,5,6\n",
      "SERVICE_PLAN_DESCR                                      Priority Corridor\n",
      "REV_TYPE                                                              Rev\n",
      "GEOMETRYSOURCE                                                       None\n",
      "DESCRIPTION                                               VEIRS MILL ROAD\n",
      "LIN_ID                                                                123\n",
      "GIS_ID                                                       BusLineLn_49\n",
      "SE_ANNO_CAD_DATA                                                     None\n",
      "OBJECTID                                                               10\n",
      "GLOBALID                           {8C98953F-9161-402D-9A4D-47F1E8DDFB89}\n",
      "CREATOR                                                              None\n",
      "CREATED                                                              None\n",
      "EDITOR                                                               None\n",
      "EDITED                                                               None\n",
      "SHAPELEN                                                                0\n",
      "geometry                LINESTRING (-77.16503002183013 39.119827149349...\n",
      "Name: 9, dtype: object\n"
     ]
    }
   ],
   "source": [
    "for index, row in df.iterrows():\n",
    "    if index == 9:\n",
    "        print(row)\n",
    "        break"
   ]
  },
  {
   "cell_type": "code",
   "execution_count": 8,
   "id": "70012ff2-666b-4f04-938f-9e671d549a05",
   "metadata": {},
   "outputs": [],
   "source": [
    "routes_lines = {}\n",
    "\n",
    "#There were two data with\n",
    "#multilinestring creating problem so to eleminate that we added this line\n",
    "linestringclass = type(df.iloc[0].geometry)\n",
    "\n",
    "for index,row in df.iterrows():\n",
    "    if(type(row.geometry)!=linestringclass):\n",
    "        continue\n",
    "    if(type(routes_lines.get(row.ROUTE, None)) == type(None)):\n",
    "        routes_lines[row.ROUTE] = [row.geometry]\n",
    "    else:\n",
    "        routes_lines[row.ROUTE].append(row.geometry)"
   ]
  },
  {
   "cell_type": "code",
   "execution_count": 9,
   "id": "e2d83b9d-4599-4caf-9136-7550097f943f",
   "metadata": {},
   "outputs": [],
   "source": [
    "route_linestring = {}\n",
    "for route in routes_lines:\n",
    "    multi_line = geometry.MultiLineString(routes_lines[route])\n",
    "    merged_line = ops.linemerge(multi_line)\n",
    "    route_linestring[route] = merged_line"
   ]
  },
  {
   "cell_type": "code",
   "execution_count": 10,
   "id": "6e297ab8-1882-411b-bbae-bffaea39cb88",
   "metadata": {},
   "outputs": [],
   "source": [
    "route_length = {}\n",
    "for route in route_linestring:\n",
    "    map_segment = gpd.GeoDataFrame({'geometry':[route_linestring[route]]})\n",
    "    project = partial(pyproj.transform,pyproj.Proj('EPSG:4326'), pyproj.Proj('EPSG:32633'))\n",
    "    line = transform(project, route_linestring[route])\n",
    "    route_length[route] = line.length"
   ]
  },
  {
   "cell_type": "code",
   "execution_count": 11,
   "id": "baa739fa-671c-4f6b-9ca4-6394a59faf16",
   "metadata": {},
   "outputs": [],
   "source": [
    "df = pd.DataFrame(route_length, index=[0])\n",
    "df.to_csv('route_length.csv', index=False, header=True)"
   ]
  },
  {
   "cell_type": "code",
   "execution_count": 12,
   "id": "4ca94f99-383a-46cc-84a6-476a74f35f69",
   "metadata": {},
   "outputs": [
    {
     "name": "stdout",
     "output_type": "stream",
     "text": [
      "C:\\Users\\Jignasu\\Documents\\Virginia tech\\fall22\\urban\\project2\\busdata\\bus_frequency.csv\n"
     ]
    }
   ],
   "source": [
    "Bus_Frequency = os.path.join(os.getcwd(), \"busdata\", \"bus_frequency.csv\")\n",
    "print(Bus_Frequency)\n",
    "\n",
    "bus_freq_df = pd.read_csv(Bus_Frequency)"
   ]
  },
  {
   "cell_type": "code",
   "execution_count": 13,
   "id": "b32c2fad-aa88-4008-b554-ec809ba76524",
   "metadata": {},
   "outputs": [
    {
     "name": "stdout",
     "output_type": "stream",
     "text": [
      "C:\\Users\\Jignasu\\Documents\\Virginia tech\\fall22\\urban\\project2\\busdata\\route_length.csv\n"
     ]
    }
   ],
   "source": [
    "Bus_Route_Len = os.path.join(os.getcwd(), \"busdata\", \"route_length.csv\")\n",
    "print(Bus_Route_Len)\n",
    "\n",
    "bus_route_len_df = pd.read_csv(Bus_Route_Len)"
   ]
  },
  {
   "cell_type": "code",
   "execution_count": 15,
   "id": "c5db873f-8802-48e4-8395-182e9c646aaa",
   "metadata": {},
   "outputs": [],
   "source": [
    "route_carbon_footprint = []\n",
    "for index, route in bus_freq_df.iterrows():\n",
    "    dist = bus_route_len_df.iloc[0][route[\"Routes\"]]\n",
    "    carbon_footprint = dist*12*60/route[\"minutes\"]\n",
    "    route_carbon_footprint.append({\"route\": route[\"Routes\"], \"carbon_footprint\": carbon_footprint})\n",
    "carbon_footprint_df = pd.DataFrame.from_dict(route_carbon_footprint)"
   ]
  },
  {
   "cell_type": "code",
   "execution_count": 16,
   "id": "57e4504b-756f-4fbd-996f-1bc0d3cb31dc",
   "metadata": {},
   "outputs": [],
   "source": [
    "carbon_footprint_df.to_csv('route_carbon_footprint.csv', index=False, header=True)"
   ]
  },
  {
   "cell_type": "code",
   "execution_count": 17,
   "id": "795a43cd-2332-4dca-a399-680edbe11a99",
   "metadata": {},
   "outputs": [
    {
     "name": "stdout",
     "output_type": "stream",
     "text": [
      "C:\\Users\\Jignasu\\Documents\\Virginia tech\\fall22\\urban\\project2\\busdata\\route_carbon_footprint.csv\n"
     ]
    }
   ],
   "source": [
    "route_carbon_footprint = os.path.join(os.getcwd(), \"busdata\", \"route_carbon_footprint.csv\")\n",
    "print(route_carbon_footprint)\n",
    "carbon_footprint_df = pd.read_csv(route_carbon_footprint)\n",
    "combined_carbon_footprint = carbon_footprint_df[\"carbon_footprint\"].sum()"
   ]
  },
  {
   "cell_type": "code",
   "execution_count": 18,
   "id": "88936572-ad2d-4978-8371-32c527d3541a",
   "metadata": {},
   "outputs": [],
   "source": [
    "carbon_footprint_per_person = combined_carbon_footprint / (35000)"
   ]
  },
  {
   "cell_type": "code",
   "execution_count": 19,
   "id": "733babd3-6096-49fb-ac37-6e11180ec10a",
   "metadata": {},
   "outputs": [
    {
     "name": "stdout",
     "output_type": "stream",
     "text": [
      "5.005586692720274 km carbon footprint per person\n"
     ]
    }
   ],
   "source": [
    "print(str(carbon_footprint_per_person/1000)+\" km carbon footprint per person\")"
   ]
  },
  {
   "cell_type": "code",
   "execution_count": null,
   "id": "8b9aa09c-35ad-4c1e-8692-6718f7793ce1",
   "metadata": {},
   "outputs": [],
   "source": []
  }
 ],
 "metadata": {
  "kernelspec": {
   "display_name": "urbanenv",
   "language": "python",
   "name": "urbanenv"
  },
  "language_info": {
   "codemirror_mode": {
    "name": "ipython",
    "version": 3
   },
   "file_extension": ".py",
   "mimetype": "text/x-python",
   "name": "python",
   "nbconvert_exporter": "python",
   "pygments_lexer": "ipython3",
   "version": "3.10.4"
  }
 },
 "nbformat": 4,
 "nbformat_minor": 5
}
